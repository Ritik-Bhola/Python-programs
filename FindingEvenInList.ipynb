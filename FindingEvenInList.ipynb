{
 "cells": [
  {
   "cell_type": "code",
   "execution_count": 2,
   "id": "dd4cfe2c",
   "metadata": {},
   "outputs": [],
   "source": [
    "li=[1,2,3,4,5,6,7,8,9,10]\n",
    "even_no_list=[]"
   ]
  },
  {
   "cell_type": "code",
   "execution_count": 15,
   "id": "94cff038",
   "metadata": {},
   "outputs": [],
   "source": [
    "for x in li:\n",
    "    if x%2==0:\n",
    "        even_no_list.append(x)"
   ]
  },
  {
   "cell_type": "code",
   "execution_count": 16,
   "id": "6267b746",
   "metadata": {},
   "outputs": [
    {
     "name": "stdout",
     "output_type": "stream",
     "text": [
      "Even Numbers are: [2, 4, 6, 8, 10, 2, 4, 6, 8, 10, 2, 4, 6, 8, 10, 2, 4, 6, 8, 10, 2, 4, 6, 8, 10]\n"
     ]
    }
   ],
   "source": [
    "print('Even Numbers are:',even_no_list)"
   ]
  }
 ],
 "metadata": {
  "kernelspec": {
   "display_name": "Python 3",
   "language": "python",
   "name": "python3"
  },
  "language_info": {
   "codemirror_mode": {
    "name": "ipython",
    "version": 3
   },
   "file_extension": ".py",
   "mimetype": "text/x-python",
   "name": "python",
   "nbconvert_exporter": "python",
   "pygments_lexer": "ipython3",
   "version": "3.8.8"
  }
 },
 "nbformat": 4,
 "nbformat_minor": 5
}
