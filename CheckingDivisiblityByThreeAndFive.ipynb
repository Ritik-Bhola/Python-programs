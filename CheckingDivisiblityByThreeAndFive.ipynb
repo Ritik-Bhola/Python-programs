{
 "cells": [
  {
   "cell_type": "code",
   "execution_count": 3,
   "id": "ade4ee46",
   "metadata": {},
   "outputs": [
    {
     "name": "stdout",
     "output_type": "stream",
     "text": [
      "Enter a number:30\n"
     ]
    }
   ],
   "source": [
    "num=int(input(\"Enter a number:\"))"
   ]
  },
  {
   "cell_type": "code",
   "execution_count": 4,
   "id": "565f8551",
   "metadata": {},
   "outputs": [
    {
     "name": "stdout",
     "output_type": "stream",
     "text": [
      "Number30 is divisible by both 3 and 5.\n"
     ]
    }
   ],
   "source": [
    "if num%3==0 and num%5==0:\n",
    "    print(f\"Number{num} is divisible by both 3 and 5.\")\n",
    "else:\n",
    "    print(f\"Number{num} is not divisible by both 3 and 5.\")"
   ]
  }
 ],
 "metadata": {
  "kernelspec": {
   "display_name": "Python 3",
   "language": "python",
   "name": "python3"
  },
  "language_info": {
   "codemirror_mode": {
    "name": "ipython",
    "version": 3
   },
   "file_extension": ".py",
   "mimetype": "text/x-python",
   "name": "python",
   "nbconvert_exporter": "python",
   "pygments_lexer": "ipython3",
   "version": "3.8.8"
  }
 },
 "nbformat": 4,
 "nbformat_minor": 5
}
