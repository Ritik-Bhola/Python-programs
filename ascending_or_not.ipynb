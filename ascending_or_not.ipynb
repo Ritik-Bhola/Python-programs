{
 "cells": [
  {
   "cell_type": "code",
   "execution_count": 26,
   "id": "0509b73f",
   "metadata": {},
   "outputs": [],
   "source": [
    "li1=[1,2,3,4,5]\n",
    "li2=[4,5,3,6,7]"
   ]
  },
  {
   "cell_type": "code",
   "execution_count": 32,
   "id": "6bed433b",
   "metadata": {},
   "outputs": [
    {
     "name": "stdout",
     "output_type": "stream",
     "text": [
      "[1, 2, 3, 4, 5]\n",
      "[1, 2, 3, 4, 5]\n"
     ]
    }
   ],
   "source": [
    "str_li1=str(li1)\n",
    "print(str_li1)\n",
    "li1.sort()\n",
    "test_li1=str(li1)\n",
    "print(test_li1)"
   ]
  },
  {
   "cell_type": "code",
   "execution_count": 34,
   "id": "0ab47c28",
   "metadata": {
    "scrolled": false
   },
   "outputs": [
    {
     "name": "stdout",
     "output_type": "stream",
     "text": [
      "li1 is in assending order\n"
     ]
    }
   ],
   "source": [
    "if test_li1==str_li1:\n",
    "    print(\"li1 is in assending order\")\n",
    "else:\n",
    "    print(\"li1 is not in assending order\")"
   ]
  },
  {
   "cell_type": "code",
   "execution_count": 36,
   "id": "0442546f",
   "metadata": {},
   "outputs": [
    {
     "name": "stdout",
     "output_type": "stream",
     "text": [
      "[4, 5, 3, 6, 7]\n",
      "[3, 4, 5, 6, 7]\n"
     ]
    }
   ],
   "source": [
    "str_li2=str(li2)\n",
    "print(str_li2)\n",
    "li2.sort()\n",
    "test_li2=str(li2)\n",
    "print(test_li2)"
   ]
  },
  {
   "cell_type": "code",
   "execution_count": 37,
   "id": "f1cb9463",
   "metadata": {},
   "outputs": [
    {
     "name": "stdout",
     "output_type": "stream",
     "text": [
      "li2 is not in assending order\n"
     ]
    }
   ],
   "source": [
    "if test_li2==str_li2:\n",
    "    print(\"li2 is in assending order\")\n",
    "else:\n",
    "    print(\"li2 is not in assending order\")"
   ]
  }
 ],
 "metadata": {
  "kernelspec": {
   "display_name": "Python 3",
   "language": "python",
   "name": "python3"
  },
  "language_info": {
   "codemirror_mode": {
    "name": "ipython",
    "version": 3
   },
   "file_extension": ".py",
   "mimetype": "text/x-python",
   "name": "python",
   "nbconvert_exporter": "python",
   "pygments_lexer": "ipython3",
   "version": "3.8.8"
  }
 },
 "nbformat": 4,
 "nbformat_minor": 5
}
