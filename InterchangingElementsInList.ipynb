{
 "cells": [
  {
   "cell_type": "code",
   "execution_count": 2,
   "id": "c4c6b331",
   "metadata": {},
   "outputs": [],
   "source": [
    "li=[0,2,4,6,8]\n",
    "li[0],li[4] =li[4],li[0]"
   ]
  },
  {
   "cell_type": "code",
   "execution_count": 3,
   "id": "687a826d",
   "metadata": {},
   "outputs": [
    {
     "name": "stdout",
     "output_type": "stream",
     "text": [
      "New List is: [8, 2, 4, 6, 0]\n"
     ]
    }
   ],
   "source": [
    "print(\"New List is:\",li)"
   ]
  }
 ],
 "metadata": {
  "kernelspec": {
   "display_name": "Python 3",
   "language": "python",
   "name": "python3"
  },
  "language_info": {
   "codemirror_mode": {
    "name": "ipython",
    "version": 3
   },
   "file_extension": ".py",
   "mimetype": "text/x-python",
   "name": "python",
   "nbconvert_exporter": "python",
   "pygments_lexer": "ipython3",
   "version": "3.8.8"
  }
 },
 "nbformat": 4,
 "nbformat_minor": 5
}
