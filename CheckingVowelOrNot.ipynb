{
 "cells": [
  {
   "cell_type": "code",
   "execution_count": 16,
   "id": "c0d42ed5",
   "metadata": {},
   "outputs": [
    {
     "name": "stdout",
     "output_type": "stream",
     "text": [
      "Enter a character:Z\n"
     ]
    }
   ],
   "source": [
    "str=input(\"Enter a character:\")"
   ]
  },
  {
   "cell_type": "code",
   "execution_count": 17,
   "id": "7cbcab3b",
   "metadata": {},
   "outputs": [
    {
     "name": "stdout",
     "output_type": "stream",
     "text": [
      "Z is not a vowel\n"
     ]
    }
   ],
   "source": [
    "str1=str.lower()\n",
    "vowel=['a','e','i','o','u']\n",
    "if  str1 in vowel:\n",
    "    print(f\"{str} is vowel\")\n",
    "else:\n",
    "    print(f\"{str} is not a vowel\")"
   ]
  }
 ],
 "metadata": {
  "kernelspec": {
   "display_name": "Python 3",
   "language": "python",
   "name": "python3"
  },
  "language_info": {
   "codemirror_mode": {
    "name": "ipython",
    "version": 3
   },
   "file_extension": ".py",
   "mimetype": "text/x-python",
   "name": "python",
   "nbconvert_exporter": "python",
   "pygments_lexer": "ipython3",
   "version": "3.8.8"
  }
 },
 "nbformat": 4,
 "nbformat_minor": 5
}
