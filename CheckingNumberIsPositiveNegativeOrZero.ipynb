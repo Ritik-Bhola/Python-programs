{
 "cells": [
  {
   "cell_type": "code",
   "execution_count": 2,
   "id": "6aa931d2",
   "metadata": {},
   "outputs": [],
   "source": [
    "li=[23,5,-45,8,0,-7,6,-4,0]"
   ]
  },
  {
   "cell_type": "code",
   "execution_count": 3,
   "id": "b816f063",
   "metadata": {},
   "outputs": [
    {
     "name": "stdout",
     "output_type": "stream",
     "text": [
      "23 is a positive number.\n",
      "5 is a positive number.\n",
      "-45 is a negative number.\n",
      "8 is a positive number.\n",
      "0 is Zero.\n",
      "-7 is a negative number.\n",
      "6 is a positive number.\n",
      "-4 is a negative number.\n",
      "0 is Zero.\n"
     ]
    }
   ],
   "source": [
    "for num in li:\n",
    "    if num>0:\n",
    "        print(f\"{num} is a positive number.\")\n",
    "    elif num==0:\n",
    "        print(f\"{num} is Zero.\")\n",
    "    else:\n",
    "        print(f\"{num} is a negative number.\")"
   ]
  }
 ],
 "metadata": {
  "kernelspec": {
   "display_name": "Python 3",
   "language": "python",
   "name": "python3"
  },
  "language_info": {
   "codemirror_mode": {
    "name": "ipython",
    "version": 3
   },
   "file_extension": ".py",
   "mimetype": "text/x-python",
   "name": "python",
   "nbconvert_exporter": "python",
   "pygments_lexer": "ipython3",
   "version": "3.8.8"
  }
 },
 "nbformat": 4,
 "nbformat_minor": 5
}
