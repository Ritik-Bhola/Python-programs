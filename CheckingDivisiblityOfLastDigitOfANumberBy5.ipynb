{
 "cells": [
  {
   "cell_type": "code",
   "execution_count": 2,
   "id": "fc31f5ce",
   "metadata": {},
   "outputs": [
    {
     "name": "stdout",
     "output_type": "stream",
     "text": [
      "Enter a number:3487632\n"
     ]
    }
   ],
   "source": [
    "num=input(\"Enter a number:\")"
   ]
  },
  {
   "cell_type": "code",
   "execution_count": 7,
   "id": "6250ae88",
   "metadata": {},
   "outputs": [
    {
     "name": "stdout",
     "output_type": "stream",
     "text": [
      "Last digit of the number is not divisible by 5.\n"
     ]
    }
   ],
   "source": [
    "lastnum=int(num[-1])\n",
    "if lastnum%5==0:\n",
    "    print(\"Last digit of the number is divisible by 5.\")\n",
    "else:\n",
    "    print(\"Last digit of the number is not divisible by 5.\")"
   ]
  }
 ],
 "metadata": {
  "kernelspec": {
   "display_name": "Python 3",
   "language": "python",
   "name": "python3"
  },
  "language_info": {
   "codemirror_mode": {
    "name": "ipython",
    "version": 3
   },
   "file_extension": ".py",
   "mimetype": "text/x-python",
   "name": "python",
   "nbconvert_exporter": "python",
   "pygments_lexer": "ipython3",
   "version": "3.8.8"
  }
 },
 "nbformat": 4,
 "nbformat_minor": 5
}
