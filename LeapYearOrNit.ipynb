{
 "cells": [
  {
   "cell_type": "code",
   "execution_count": 1,
   "id": "33005909",
   "metadata": {},
   "outputs": [
    {
     "name": "stdout",
     "output_type": "stream",
     "text": [
      "Enter year:2020\n"
     ]
    }
   ],
   "source": [
    "year=int(input(\"Enter year:\"))"
   ]
  },
  {
   "cell_type": "code",
   "execution_count": 2,
   "id": "a75ab569",
   "metadata": {},
   "outputs": [
    {
     "name": "stdout",
     "output_type": "stream",
     "text": [
      "2020 is a leap year\n"
     ]
    }
   ],
   "source": [
    "if(year % 4) == 0:  \n",
    "    if (year % 100) == 0:  \n",
    "        if (year % 400) == 0:  \n",
    "            print(\"{0} is a leap year\".format(year))  \n",
    "        else:  \n",
    "            print(\"{0} is not a leap year\".format(year))  \n",
    "    else:  \n",
    "        print(\"{0} is a leap year\".format(year))  \n",
    "else:  \n",
    "    print(\"{0} is not a leap year\".format(year)) "
   ]
  }
 ],
 "metadata": {
  "kernelspec": {
   "display_name": "Python 3",
   "language": "python",
   "name": "python3"
  },
  "language_info": {
   "codemirror_mode": {
    "name": "ipython",
    "version": 3
   },
   "file_extension": ".py",
   "mimetype": "text/x-python",
   "name": "python",
   "nbconvert_exporter": "python",
   "pygments_lexer": "ipython3",
   "version": "3.8.8"
  }
 },
 "nbformat": 4,
 "nbformat_minor": 5
}
