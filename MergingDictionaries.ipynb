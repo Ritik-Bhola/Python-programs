{
 "cells": [
  {
   "cell_type": "code",
   "execution_count": 16,
   "id": "40b7f64e",
   "metadata": {},
   "outputs": [],
   "source": [
    "d1={\n",
    "    1:'c', 2:'java',3:'python',4:'c++'\n",
    "}\n",
    "d2={\n",
    "    5:'html', 6:'css',7:'javascript',8:'mysql'\n",
    "}"
   ]
  },
  {
   "cell_type": "code",
   "execution_count": 17,
   "id": "a7027fe0",
   "metadata": {},
   "outputs": [
    {
     "name": "stdout",
     "output_type": "stream",
     "text": [
      "{1: 'c', 2: 'java', 3: 'python', 4: 'c++', 5: 'html', 6: 'css', 7: 'javascript', 8: 'mysql'}\n"
     ]
    }
   ],
   "source": [
    "d3 = d1.copy()\n",
    "for key, value in d2.items():\n",
    "    d3[key] = value\n",
    "    \n",
    "print(d3)"
   ]
  }
 ],
 "metadata": {
  "kernelspec": {
   "display_name": "Python 3",
   "language": "python",
   "name": "python3"
  },
  "language_info": {
   "codemirror_mode": {
    "name": "ipython",
    "version": 3
   },
   "file_extension": ".py",
   "mimetype": "text/x-python",
   "name": "python",
   "nbconvert_exporter": "python",
   "pygments_lexer": "ipython3",
   "version": "3.8.8"
  }
 },
 "nbformat": 4,
 "nbformat_minor": 5
}
