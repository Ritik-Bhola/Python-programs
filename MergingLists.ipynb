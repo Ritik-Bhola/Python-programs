{
 "cells": [
  {
   "cell_type": "code",
   "execution_count": 2,
   "id": "4248fa33",
   "metadata": {},
   "outputs": [],
   "source": [
    "lis1=[1,2,3,4,5,6]\n",
    "lis2=[7,8,9,10]"
   ]
  },
  {
   "cell_type": "code",
   "execution_count": 3,
   "id": "b4d41f53",
   "metadata": {},
   "outputs": [],
   "source": [
    "for x in lis2:\n",
    "    lis1.append(x)\n",
    "del lis2"
   ]
  },
  {
   "cell_type": "code",
   "execution_count": 4,
   "id": "6ea11e8b",
   "metadata": {},
   "outputs": [
    {
     "name": "stdout",
     "output_type": "stream",
     "text": [
      "[1, 2, 3, 4, 5, 6, 7, 8, 9, 10]\n"
     ]
    }
   ],
   "source": [
    "print(lis1)"
   ]
  }
 ],
 "metadata": {
  "kernelspec": {
   "display_name": "Python 3",
   "language": "python",
   "name": "python3"
  },
  "language_info": {
   "codemirror_mode": {
    "name": "ipython",
    "version": 3
   },
   "file_extension": ".py",
   "mimetype": "text/x-python",
   "name": "python",
   "nbconvert_exporter": "python",
   "pygments_lexer": "ipython3",
   "version": "3.8.8"
  }
 },
 "nbformat": 4,
 "nbformat_minor": 5
}
