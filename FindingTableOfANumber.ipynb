{
 "cells": [
  {
   "cell_type": "code",
   "execution_count": 1,
   "id": "d43dfb17",
   "metadata": {},
   "outputs": [
    {
     "name": "stdout",
     "output_type": "stream",
     "text": [
      "Enter a number:15\n"
     ]
    }
   ],
   "source": [
    "num=int(input(\"Enter a number:\"))"
   ]
  },
  {
   "cell_type": "code",
   "execution_count": 3,
   "id": "603a2270",
   "metadata": {},
   "outputs": [
    {
     "name": "stdout",
     "output_type": "stream",
     "text": [
      "15 x 1 =  15\n",
      "15 x 2 =  30\n",
      "15 x 3 =  45\n",
      "15 x 4 =  60\n",
      "15 x 5 =  75\n",
      "15 x 6 =  90\n",
      "15 x 7 =  105\n",
      "15 x 8 =  120\n",
      "15 x 9 =  135\n",
      "15 x 10 =  150\n"
     ]
    }
   ],
   "source": [
    "for i in range(1,11):\n",
    "    print(f\"{num} x {i} = \",num*i)"
   ]
  }
 ],
 "metadata": {
  "kernelspec": {
   "display_name": "Python 3",
   "language": "python",
   "name": "python3"
  },
  "language_info": {
   "codemirror_mode": {
    "name": "ipython",
    "version": 3
   },
   "file_extension": ".py",
   "mimetype": "text/x-python",
   "name": "python",
   "nbconvert_exporter": "python",
   "pygments_lexer": "ipython3",
   "version": "3.8.8"
  }
 },
 "nbformat": 4,
 "nbformat_minor": 5
}
